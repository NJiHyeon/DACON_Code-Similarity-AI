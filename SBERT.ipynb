{
 "cells": [
  {
   "cell_type": "markdown",
   "id": "3ce4f6ea-eab1-44c1-af3a-806331b49456",
   "metadata": {},
   "source": [
    "# SBERT"
   ]
  },
  {
   "cell_type": "markdown",
   "id": "bc7bc519-5353-44af-b162-b22333319038",
   "metadata": {},
   "source": [
    "#### 1.Library"
   ]
  },
  {
   "cell_type": "code",
   "execution_count": 2,
   "id": "3de2ba0b-5e13-46d9-ac46-c7d124eae689",
   "metadata": {},
   "outputs": [],
   "source": [
    "import pandas as pd\n",
    "import numpy as np"
   ]
  },
  {
   "cell_type": "code",
   "execution_count": null,
   "id": "fad6d99c-e109-470c-8fab-6561fbadbe8d",
   "metadata": {},
   "outputs": [],
   "source": [
    "import torch\n",
    "import gc\n",
    "torch.cuda.empty_cache()\n",
    "gc.collect()"
   ]
  },
  {
   "cell_type": "code",
   "execution_count": 21,
   "id": "f50fc2d7-7b17-449c-b2c9-6035c0f84bea",
   "metadata": {},
   "outputs": [
    {
     "name": "stdout",
     "output_type": "stream",
     "text": [
      "/bin/bash: os.environ[CUDA_DEVICE_ORDER]=PCI_BUS_ID: command not found\n",
      "/bin/bash: os.environ[CUDA_VISIBLE_DEVICES]=: command not found\n"
     ]
    }
   ],
   "source": [
    "!os.environ[\"CUDA_DEVICE_ORDER\"]=\"PCI_BUS_ID\"  # Arrange GPU devices starting from 0\n",
    "!os.environ[\"CUDA_VISIBLE_DEVICES\"]= \"#\""
   ]
  },
  {
   "cell_type": "code",
   "execution_count": 22,
   "id": "9f28c92a-e0f6-45a9-b7d9-11a7d0f51ffa",
   "metadata": {},
   "outputs": [
    {
     "name": "stdout",
     "output_type": "stream",
     "text": [
      "Device: cuda\n",
      "Current cuda device: 0\n"
     ]
    }
   ],
   "source": [
    "import torch\n",
    "device = torch.device(\"cuda\" if torch.cuda.is_available() else \"cpu\")\n",
    "\n",
    "print('Device:', device)\n",
    "print('Current cuda device:', torch.cuda.current_device())"
   ]
  },
  {
   "cell_type": "code",
   "execution_count": 1,
   "id": "22223098-92d7-4e81-baea-2f26b93830ae",
   "metadata": {},
   "outputs": [
    {
     "name": "stdout",
     "output_type": "stream",
     "text": [
      "Sun Jun 12 11:51:49 2022       \n",
      "+-----------------------------------------------------------------------------+\n",
      "| NVIDIA-SMI 470.57.02    Driver Version: 470.57.02    CUDA Version: 11.4     |\n",
      "|-------------------------------+----------------------+----------------------+\n",
      "| GPU  Name        Persistence-M| Bus-Id        Disp.A | Volatile Uncorr. ECC |\n",
      "| Fan  Temp  Perf  Pwr:Usage/Cap|         Memory-Usage | GPU-Util  Compute M. |\n",
      "|                               |                      |               MIG M. |\n",
      "|===============================+======================+======================|\n",
      "|   0  Tesla V100-SXM2...  On   | 00000000:00:05.0 Off |                  Off |\n",
      "| N/A   37C    P0    62W / 300W |   1267MiB / 32510MiB |      0%      Default |\n",
      "|                               |                      |                  N/A |\n",
      "+-------------------------------+----------------------+----------------------+\n",
      "|   1  Tesla V100-SXM2...  On   | 00000000:00:06.0 Off |                  Off |\n",
      "| N/A   36C    P0    38W / 300W |      3MiB / 32510MiB |      0%      Default |\n",
      "|                               |                      |                  N/A |\n",
      "+-------------------------------+----------------------+----------------------+\n",
      "|   2  Tesla V100-SXM2...  On   | 00000000:00:07.0 Off |                  Off |\n",
      "| N/A   42C    P0    73W / 300W |  30647MiB / 32510MiB |      7%      Default |\n",
      "|                               |                      |                  N/A |\n",
      "+-------------------------------+----------------------+----------------------+\n",
      "                                                                               \n",
      "+-----------------------------------------------------------------------------+\n",
      "| Processes:                                                                  |\n",
      "|  GPU   GI   CI        PID   Type   Process name                  GPU Memory |\n",
      "|        ID   ID                                                   Usage      |\n",
      "|=============================================================================|\n",
      "|    0   N/A  N/A     54532      C   python3                          1265MiB |\n",
      "|    2   N/A  N/A      1814      C   python                          30645MiB |\n",
      "+-----------------------------------------------------------------------------+\n"
     ]
    }
   ],
   "source": [
    "!nvidia-smi"
   ]
  },
  {
   "cell_type": "code",
   "execution_count": 2,
   "id": "37c635e3-0052-481c-b939-dfe47eee3c45",
   "metadata": {},
   "outputs": [],
   "source": [
    "!kill -9 55181"
   ]
  },
  {
   "cell_type": "code",
   "execution_count": 3,
   "id": "158d739d-61ed-43b6-afc2-26b70938e9d6",
   "metadata": {},
   "outputs": [],
   "source": [
    "import pandas as pd\n",
    "import numpy as np\n",
    "from tqdm import tqdm\n",
    "import os\n",
    "from sklearn.feature_extraction.text import CountVectorizer\n",
    "from sklearn.metrics.pairwise import cosine_similarity"
   ]
  },
  {
   "cell_type": "markdown",
   "id": "c3fa4dc0-608a-4ee4-869a-b60a508bf9ad",
   "metadata": {},
   "source": [
    "#### 2.Data Load"
   ]
  },
  {
   "cell_type": "markdown",
   "id": "e101fc00-5024-4434-9e10-cda5ee667346",
   "metadata": {},
   "source": [
    "- train dataset"
   ]
  },
  {
   "cell_type": "code",
   "execution_count": 4,
   "id": "90c499a5-72c3-4b9e-9409-4181f9dce7cc",
   "metadata": {},
   "outputs": [
    {
     "data": {
      "text/plain": [
       "17970"
      ]
     },
     "execution_count": 4,
     "metadata": {},
     "output_type": "execute_result"
    }
   ],
   "source": [
    "code_folder = '/home/ubuntu/HwangJaewon/DL_class/code/'\n",
    "problem_folders = os.listdir(code_folder)\n",
    "\n",
    "train = pd.read_csv(\"/home/ubuntu/HwangJaewon/DL_class/sample_train.csv\")\n",
    "train.head()\n",
    "len(train)"
   ]
  },
  {
   "cell_type": "markdown",
   "id": "687711ff-c92e-431b-9c41-7d0bf117e037",
   "metadata": {},
   "source": [
    "- Test dataset for submission "
   ]
  },
  {
   "cell_type": "code",
   "execution_count": 5,
   "id": "3ae4dff8-0aed-4154-b4b2-dfb17839cf8a",
   "metadata": {},
   "outputs": [
    {
     "data": {
      "text/plain": [
       "179700"
      ]
     },
     "execution_count": 5,
     "metadata": {},
     "output_type": "execute_result"
    }
   ],
   "source": [
    "test = pd.read_csv(\"/home/ubuntu/HwangJaewon/DL_class/test.csv\")\n",
    "test.head()\n",
    "len(test)"
   ]
  },
  {
   "cell_type": "markdown",
   "id": "dbb93393-4749-4c54-b25b-85f10f8938e3",
   "metadata": {},
   "source": [
    "- Validation dataset"
   ]
  },
  {
   "cell_type": "code",
   "execution_count": 6,
   "id": "86388e1d-bc3e-4b38-a43c-5be9860fbbf0",
   "metadata": {},
   "outputs": [],
   "source": [
    "from sklearn.model_selection import train_test_split\n",
    "\n",
    "train, valid = train_test_split(train, test_size = 0.2, random_state = 42, stratify = train['similar'])"
   ]
  },
  {
   "cell_type": "code",
   "execution_count": 7,
   "id": "0c8ef938-d428-4145-be99-110cf8da6950",
   "metadata": {},
   "outputs": [
    {
     "data": {
      "text/html": [
       "<div>\n",
       "<style scoped>\n",
       "    .dataframe tbody tr th:only-of-type {\n",
       "        vertical-align: middle;\n",
       "    }\n",
       "\n",
       "    .dataframe tbody tr th {\n",
       "        vertical-align: top;\n",
       "    }\n",
       "\n",
       "    .dataframe thead th {\n",
       "        text-align: right;\n",
       "    }\n",
       "</style>\n",
       "<table border=\"1\" class=\"dataframe\">\n",
       "  <thead>\n",
       "    <tr style=\"text-align: right;\">\n",
       "      <th></th>\n",
       "      <th>code1</th>\n",
       "      <th>code2</th>\n",
       "      <th>similar</th>\n",
       "    </tr>\n",
       "  </thead>\n",
       "  <tbody>\n",
       "    <tr>\n",
       "      <th>2885</th>\n",
       "      <td>N=int(input())\\nA=list(map(int,input().split()...</td>\n",
       "      <td>n = int(input())\\na = list(map(int,input().spl...</td>\n",
       "      <td>1</td>\n",
       "    </tr>\n",
       "    <tr>\n",
       "      <th>14761</th>\n",
       "      <td>K = int(input())\\nnumbers = set([])\\nq = set(l...</td>\n",
       "      <td>from collections import deque\\n\\nK = int(input...</td>\n",
       "      <td>1</td>\n",
       "    </tr>\n",
       "    <tr>\n",
       "      <th>6936</th>\n",
       "      <td>d = int(input())\\nc = list(map(int,input().spl...</td>\n",
       "      <td>import numpy as np\\n\\nA=[list(map(int, input()...</td>\n",
       "      <td>0</td>\n",
       "    </tr>\n",
       "    <tr>\n",
       "      <th>15368</th>\n",
       "      <td>x = int(input())\\n\\ndef score(x):\\n if  400 &lt;=...</td>\n",
       "      <td>S = input()\\nL = S.split()\\n\\na = L[0]\\nb = L[...</td>\n",
       "      <td>0</td>\n",
       "    </tr>\n",
       "    <tr>\n",
       "      <th>15218</th>\n",
       "      <td>import numpy as np\\nimport sys\\nread = sys.std...</td>\n",
       "      <td>import math\\n \\nN = int(input())\\n \\nM = int(m...</td>\n",
       "      <td>0</td>\n",
       "    </tr>\n",
       "  </tbody>\n",
       "</table>\n",
       "</div>"
      ],
      "text/plain": [
       "                                                   code1  \\\n",
       "2885   N=int(input())\\nA=list(map(int,input().split()...   \n",
       "14761  K = int(input())\\nnumbers = set([])\\nq = set(l...   \n",
       "6936   d = int(input())\\nc = list(map(int,input().spl...   \n",
       "15368  x = int(input())\\n\\ndef score(x):\\n if  400 <=...   \n",
       "15218  import numpy as np\\nimport sys\\nread = sys.std...   \n",
       "\n",
       "                                                   code2  similar  \n",
       "2885   n = int(input())\\na = list(map(int,input().spl...        1  \n",
       "14761  from collections import deque\\n\\nK = int(input...        1  \n",
       "6936   import numpy as np\\n\\nA=[list(map(int, input()...        0  \n",
       "15368  S = input()\\nL = S.split()\\n\\na = L[0]\\nb = L[...        0  \n",
       "15218  import math\\n \\nN = int(input())\\n \\nM = int(m...        0  "
      ]
     },
     "execution_count": 7,
     "metadata": {},
     "output_type": "execute_result"
    }
   ],
   "source": [
    "valid.head()"
   ]
  },
  {
   "cell_type": "code",
   "execution_count": 8,
   "id": "b68b36d9-7dc5-4055-8326-c9b3007fb156",
   "metadata": {},
   "outputs": [
    {
     "data": {
      "text/plain": [
       "3594"
      ]
     },
     "execution_count": 8,
     "metadata": {},
     "output_type": "execute_result"
    }
   ],
   "source": [
    "len(valid)"
   ]
  },
  {
   "cell_type": "markdown",
   "id": "03263b16-d432-4dcb-85c3-2c52df7430fc",
   "metadata": {},
   "source": [
    "#### 3.Modeling"
   ]
  },
  {
   "cell_type": "code",
   "execution_count": 9,
   "id": "397f00b5-8333-4ee2-83b0-ad100457e09d",
   "metadata": {},
   "outputs": [],
   "source": [
    "# module import\n",
    "from sentence_transformers.cross_encoder import CrossEncoder\n",
    "from sentence_transformers import SentenceTransformer, InputExample, losses\n",
    "from sentence_transformers.cross_encoder.evaluation import CEBinaryClassificationEvaluator\n",
    "from torch.utils.data import DataLoader\n",
    "from tqdm.notebook import tqdm"
   ]
  },
  {
   "cell_type": "code",
   "execution_count": 10,
   "id": "7fc5fb36-85a5-4b8c-a1e9-0d26a6f045a7",
   "metadata": {},
   "outputs": [],
   "source": [
    "# model\n",
    "model = CrossEncoder('cross-encoder/stsb-roberta-base', num_labels=1)"
   ]
  },
  {
   "cell_type": "code",
   "execution_count": 11,
   "id": "4b8b34ed-b4f4-4b09-8c03-254459b3be13",
   "metadata": {},
   "outputs": [
    {
     "data": {
      "application/vnd.jupyter.widget-view+json": {
       "model_id": "b056b354c1c34dffa0b17ba3ebaaff17",
       "version_major": 2,
       "version_minor": 0
      },
      "text/plain": [
       "0it [00:00, ?it/s]"
      ]
     },
     "metadata": {},
     "output_type": "display_data"
    },
    {
     "data": {
      "application/vnd.jupyter.widget-view+json": {
       "model_id": "b62c0319bbd34cd695c9ea57e0b40ff5",
       "version_major": 2,
       "version_minor": 0
      },
      "text/plain": [
       "0it [00:00, ?it/s]"
      ]
     },
     "metadata": {},
     "output_type": "display_data"
    }
   ],
   "source": [
    "# data를 InputExample로 묶어준 후, torch dataloader로 묶기\n",
    "train_examples = []\n",
    "valid_examples = []\n",
    "for idx, row in tqdm(train.iterrows()):\n",
    "    train_examples.append(InputExample(texts = [row['code1'], row['code2']], label = row['similar']))\n",
    "\n",
    "for idx, row in tqdm(valid.iterrows()):\n",
    "    valid_examples.append(InputExample(texts = [row['code1'], row['code2']], label = row['similar']))"
   ]
  },
  {
   "cell_type": "code",
   "execution_count": 12,
   "id": "102b811d-5e02-4940-889a-4ac99bcfa722",
   "metadata": {},
   "outputs": [
    {
     "data": {
      "text/plain": [
       "<torch.utils.data.dataloader.DataLoader at 0x7f11c46bc400>"
      ]
     },
     "execution_count": 12,
     "metadata": {},
     "output_type": "execute_result"
    }
   ],
   "source": [
    "# Data Loader\n",
    "train_dataloader = DataLoader(train_examples, shuffle=True, batch_size=16)\n",
    "valid_dataloader = CEBinaryClassificationEvaluator.from_input_examples(valid_examples)\n",
    "train_dataloader"
   ]
  },
  {
   "cell_type": "code",
   "execution_count": 13,
   "id": "e6895e2d-1e8e-46df-bcbb-5b7d957671bd",
   "metadata": {},
   "outputs": [
    {
     "name": "stderr",
     "output_type": "stream",
     "text": [
      "/home/ubuntu/anaconda3/lib/python3.9/site-packages/transformers/optimization.py:306: FutureWarning: This implementation of AdamW is deprecated and will be removed in a future version. Use the PyTorch implementation torch.optim.AdamW instead, or set `no_deprecation_warning=True` to disable this warning\n",
      "  warnings.warn(\n"
     ]
    },
    {
     "data": {
      "application/vnd.jupyter.widget-view+json": {
       "model_id": "5472b87d32a143668a7e557a401104a9",
       "version_major": 2,
       "version_minor": 0
      },
      "text/plain": [
       "Epoch:   0%|          | 0/1 [00:00<?, ?it/s]"
      ]
     },
     "metadata": {},
     "output_type": "display_data"
    },
    {
     "data": {
      "application/vnd.jupyter.widget-view+json": {
       "model_id": "4c194b33678341ebaffdb8c148e63809",
       "version_major": 2,
       "version_minor": 0
      },
      "text/plain": [
       "Iteration:   0%|          | 0/899 [00:00<?, ?it/s]"
      ]
     },
     "metadata": {},
     "output_type": "display_data"
    }
   ],
   "source": [
    "# Model fit\n",
    "model.fit(train_dataloader=train_dataloader,\n",
    "          evaluator=valid_dataloader,\n",
    "          epochs=1,\n",
    "          warmup_steps=100)"
   ]
  },
  {
   "cell_type": "code",
   "execution_count": 14,
   "id": "03fe674e-09c3-42b0-ab9e-6c96c29dce38",
   "metadata": {},
   "outputs": [
    {
     "data": {
      "text/plain": [
       "0.9844679284869023"
      ]
     },
     "execution_count": 14,
     "metadata": {},
     "output_type": "execute_result"
    }
   ],
   "source": [
    "# Score\n",
    "model.best_score"
   ]
  },
  {
   "cell_type": "code",
   "execution_count": 15,
   "id": "d69389cc-f311-4a36-a17f-7230ab43603f",
   "metadata": {},
   "outputs": [],
   "source": [
    "# model save\n",
    "model.save('dacon_2022/')"
   ]
  },
  {
   "cell_type": "markdown",
   "id": "a0067efe-1ef8-48a1-b064-1e495ac4f25f",
   "metadata": {},
   "source": [
    "#### 4.Predict"
   ]
  },
  {
   "cell_type": "code",
   "execution_count": 16,
   "id": "7a1add3d-5be8-45d6-a115-f400ec05097f",
   "metadata": {},
   "outputs": [
    {
     "data": {
      "application/vnd.jupyter.widget-view+json": {
       "model_id": "6ff2444fce384d0fb154725895c9b783",
       "version_major": 2,
       "version_minor": 0
      },
      "text/plain": [
       "0it [00:00, ?it/s]"
      ]
     },
     "metadata": {},
     "output_type": "display_data"
    }
   ],
   "source": [
    "test_examples = []\n",
    "for idx, row in tqdm(test.iterrows()):\n",
    "    test_examples.append([row['code1'], row['code2']])"
   ]
  },
  {
   "cell_type": "code",
   "execution_count": 17,
   "id": "544574c1-ab1a-482c-b5d2-6ff04256af13",
   "metadata": {},
   "outputs": [
    {
     "data": {
      "text/plain": [
       "179700"
      ]
     },
     "execution_count": 17,
     "metadata": {},
     "output_type": "execute_result"
    }
   ],
   "source": [
    "LEN_TEST = len(test_examples)\n",
    "LEN_TEST"
   ]
  },
  {
   "cell_type": "code",
   "execution_count": 18,
   "id": "b6857b11-37dd-4ebc-bfe6-9c298a0cf2e8",
   "metadata": {},
   "outputs": [
    {
     "data": {
      "application/vnd.jupyter.widget-view+json": {
       "model_id": "00d7c9c4b2064778b5e2adfb8f1cd055",
       "version_major": 2,
       "version_minor": 0
      },
      "text/plain": [
       "  0%|          | 0/179700 [00:00<?, ?it/s]"
      ]
     },
     "metadata": {},
     "output_type": "display_data"
    }
   ],
   "source": [
    "# test\n",
    "preds = []\n",
    "for idx in tqdm(range(LEN_TEST)):\n",
    "    preds.append(model.predict(test_examples[idx]))"
   ]
  },
  {
   "cell_type": "markdown",
   "id": "04fe72c5-4e78-4400-8f82-f48c93b4c139",
   "metadata": {},
   "source": [
    "#### 5.Submission"
   ]
  },
  {
   "cell_type": "code",
   "execution_count": 20,
   "id": "dd71aafc-ca51-4dac-8cf9-7c922a53ceb9",
   "metadata": {},
   "outputs": [],
   "source": [
    "submission = pd.read_csv(\"/home/ubuntu/HwangJaewon/DL_class/sample_submission.csv\")"
   ]
  },
  {
   "cell_type": "code",
   "execution_count": 21,
   "id": "fff01012-99af-4479-8bac-05a5b9650ca5",
   "metadata": {},
   "outputs": [],
   "source": [
    "submission.similar = preds"
   ]
  },
  {
   "cell_type": "code",
   "execution_count": 22,
   "id": "afec768a-14aa-4598-af92-bca59d414fe6",
   "metadata": {},
   "outputs": [],
   "source": [
    "submission.similar = submission.similar.apply(lambda x : 0 if x < 0.5 else 1)"
   ]
  },
  {
   "cell_type": "code",
   "execution_count": 23,
   "id": "725497f1-eb3b-4323-961d-a0fefa6ed207",
   "metadata": {},
   "outputs": [
    {
     "name": "stdout",
     "output_type": "stream",
     "text": [
      "'submission_06111122.csv' is ready to submit.\n"
     ]
    }
   ],
   "source": [
    "t = pd.Timestamp.now()\n",
    "fname = f\"submission_{t.month:02}{t.day:02}{t.hour:02}{t.minute:02}.csv\"\n",
    "submission.to_csv(f'{fname}', index=False)\n",
    "print(f\"'{fname}' is ready to submit.\")"
   ]
  },
  {
   "cell_type": "code",
   "execution_count": null,
   "id": "cb023da9-0e06-4589-ad2b-3de893a2a2af",
   "metadata": {},
   "outputs": [],
   "source": []
  }
 ],
 "metadata": {
  "kernelspec": {
   "display_name": "Python 3 (ipykernel)",
   "language": "python",
   "name": "python3"
  },
  "language_info": {
   "codemirror_mode": {
    "name": "ipython",
    "version": 3
   },
   "file_extension": ".py",
   "mimetype": "text/x-python",
   "name": "python",
   "nbconvert_exporter": "python",
   "pygments_lexer": "ipython3",
   "version": "3.9.13"
  }
 },
 "nbformat": 4,
 "nbformat_minor": 5
}
